{
  "cells": [
    {
      "cell_type": "markdown",
      "metadata": {},
      "source": [
        "<h1>How Can Data Help YOU Market Your Online Programming Course?\n",
        "<h5>by Abdulrahman Alhassan"
      ]
    },
    {
      "cell_type": "markdown",
      "metadata": {},
      "source": [
        "![](lang.jpg)"
      ]
    },
    {
      "cell_type": "markdown",
      "metadata": {},
      "source": [
        "<h3><b>Business Understanding</b></h3>\n",
        "<p>Imagine you are a programming expert, and you want to share your knowledge by making an online programming course. <b>How</b> would you market your course? <b>What</b> countries are most interested in your programming language of choice?</p><br>\n",
        "<p>This project aims to answer the following questions using the <a rel=\"https://www.kaggle.com/datasets/stackoverflow/so-survey-2017\">Stack Overflow Developer Survey database</a>:</p>\n",
        "<ul>\n",
        "<li>What is the programming language that people from the USA are most interested in?</li>\n",
        "<li>Does the employement type have anything to do with this interest?</li>\n",
        "<li>Is that programming language usually coupled with a Database? If so, which one?</li>\n",
        "<ul>"
      ]
    },
    {
      "cell_type": "markdown",
      "metadata": {},
      "source": [
        "<b>Data Preperation</b>"
      ]
    },
    {
      "cell_type": "code",
      "execution_count": 2,
      "metadata": {
        "id": "SP9lja7M7WRN"
      },
      "outputs": [],
      "source": [
        "import pandas as pd\n",
        "import numpy as np"
      ]
    },
    {
      "cell_type": "code",
      "execution_count": 3,
      "metadata": {
        "id": "kpPpAPJfAoAL"
      },
      "outputs": [],
      "source": [
        "df = pd.read_csv('survey_results_public.csv')"
      ]
    },
    {
      "cell_type": "code",
      "execution_count": 4,
      "metadata": {
        "colab": {
          "base_uri": "https://localhost:8080/",
          "height": 516
        },
        "id": "DBInmuNvAx7N",
        "outputId": "aece118c-864c-405a-d8a2-af43a4ee95e7"
      },
      "outputs": [
        {
          "data": {
            "text/html": [
              "<div>\n",
              "<style scoped>\n",
              "    .dataframe tbody tr th:only-of-type {\n",
              "        vertical-align: middle;\n",
              "    }\n",
              "\n",
              "    .dataframe tbody tr th {\n",
              "        vertical-align: top;\n",
              "    }\n",
              "\n",
              "    .dataframe thead th {\n",
              "        text-align: right;\n",
              "    }\n",
              "</style>\n",
              "<table border=\"1\" class=\"dataframe\">\n",
              "  <thead>\n",
              "    <tr style=\"text-align: right;\">\n",
              "      <th></th>\n",
              "      <th>ResponseId</th>\n",
              "      <th>MainBranch</th>\n",
              "      <th>Age</th>\n",
              "      <th>Employment</th>\n",
              "      <th>RemoteWork</th>\n",
              "      <th>Check</th>\n",
              "      <th>CodingActivities</th>\n",
              "      <th>EdLevel</th>\n",
              "      <th>LearnCode</th>\n",
              "      <th>LearnCodeOnline</th>\n",
              "      <th>...</th>\n",
              "      <th>JobSatPoints_6</th>\n",
              "      <th>JobSatPoints_7</th>\n",
              "      <th>JobSatPoints_8</th>\n",
              "      <th>JobSatPoints_9</th>\n",
              "      <th>JobSatPoints_10</th>\n",
              "      <th>JobSatPoints_11</th>\n",
              "      <th>SurveyLength</th>\n",
              "      <th>SurveyEase</th>\n",
              "      <th>ConvertedCompYearly</th>\n",
              "      <th>JobSat</th>\n",
              "    </tr>\n",
              "  </thead>\n",
              "  <tbody>\n",
              "    <tr>\n",
              "      <th>0</th>\n",
              "      <td>1</td>\n",
              "      <td>I am a developer by profession</td>\n",
              "      <td>Under 18 years old</td>\n",
              "      <td>Employed, full-time</td>\n",
              "      <td>Remote</td>\n",
              "      <td>Apples</td>\n",
              "      <td>Hobby</td>\n",
              "      <td>Primary/elementary school</td>\n",
              "      <td>Books / Physical media</td>\n",
              "      <td>NaN</td>\n",
              "      <td>...</td>\n",
              "      <td>NaN</td>\n",
              "      <td>NaN</td>\n",
              "      <td>NaN</td>\n",
              "      <td>NaN</td>\n",
              "      <td>NaN</td>\n",
              "      <td>NaN</td>\n",
              "      <td>NaN</td>\n",
              "      <td>NaN</td>\n",
              "      <td>NaN</td>\n",
              "      <td>NaN</td>\n",
              "    </tr>\n",
              "    <tr>\n",
              "      <th>1</th>\n",
              "      <td>2</td>\n",
              "      <td>I am a developer by profession</td>\n",
              "      <td>35-44 years old</td>\n",
              "      <td>Employed, full-time</td>\n",
              "      <td>Remote</td>\n",
              "      <td>Apples</td>\n",
              "      <td>Hobby;Contribute to open-source projects;Other...</td>\n",
              "      <td>Bachelor’s degree (B.A., B.S., B.Eng., etc.)</td>\n",
              "      <td>Books / Physical media;Colleague;On the job tr...</td>\n",
              "      <td>Technical documentation;Blogs;Books;Written Tu...</td>\n",
              "      <td>...</td>\n",
              "      <td>0.0</td>\n",
              "      <td>0.0</td>\n",
              "      <td>0.0</td>\n",
              "      <td>0.0</td>\n",
              "      <td>0.0</td>\n",
              "      <td>0.0</td>\n",
              "      <td>NaN</td>\n",
              "      <td>NaN</td>\n",
              "      <td>NaN</td>\n",
              "      <td>NaN</td>\n",
              "    </tr>\n",
              "    <tr>\n",
              "      <th>2</th>\n",
              "      <td>3</td>\n",
              "      <td>I am a developer by profession</td>\n",
              "      <td>45-54 years old</td>\n",
              "      <td>Employed, full-time</td>\n",
              "      <td>Remote</td>\n",
              "      <td>Apples</td>\n",
              "      <td>Hobby;Contribute to open-source projects;Other...</td>\n",
              "      <td>Master’s degree (M.A., M.S., M.Eng., MBA, etc.)</td>\n",
              "      <td>Books / Physical media;Colleague;On the job tr...</td>\n",
              "      <td>Technical documentation;Blogs;Books;Written Tu...</td>\n",
              "      <td>...</td>\n",
              "      <td>NaN</td>\n",
              "      <td>NaN</td>\n",
              "      <td>NaN</td>\n",
              "      <td>NaN</td>\n",
              "      <td>NaN</td>\n",
              "      <td>NaN</td>\n",
              "      <td>Appropriate in length</td>\n",
              "      <td>Easy</td>\n",
              "      <td>NaN</td>\n",
              "      <td>NaN</td>\n",
              "    </tr>\n",
              "    <tr>\n",
              "      <th>3</th>\n",
              "      <td>4</td>\n",
              "      <td>I am learning to code</td>\n",
              "      <td>18-24 years old</td>\n",
              "      <td>Student, full-time</td>\n",
              "      <td>NaN</td>\n",
              "      <td>Apples</td>\n",
              "      <td>NaN</td>\n",
              "      <td>Some college/university study without earning ...</td>\n",
              "      <td>Other online resources (e.g., videos, blogs, f...</td>\n",
              "      <td>Stack Overflow;How-to videos;Interactive tutorial</td>\n",
              "      <td>...</td>\n",
              "      <td>NaN</td>\n",
              "      <td>NaN</td>\n",
              "      <td>NaN</td>\n",
              "      <td>NaN</td>\n",
              "      <td>NaN</td>\n",
              "      <td>NaN</td>\n",
              "      <td>Too long</td>\n",
              "      <td>Easy</td>\n",
              "      <td>NaN</td>\n",
              "      <td>NaN</td>\n",
              "    </tr>\n",
              "    <tr>\n",
              "      <th>4</th>\n",
              "      <td>5</td>\n",
              "      <td>I am a developer by profession</td>\n",
              "      <td>18-24 years old</td>\n",
              "      <td>Student, full-time</td>\n",
              "      <td>NaN</td>\n",
              "      <td>Apples</td>\n",
              "      <td>NaN</td>\n",
              "      <td>Secondary school (e.g. American high school, G...</td>\n",
              "      <td>Other online resources (e.g., videos, blogs, f...</td>\n",
              "      <td>Technical documentation;Blogs;Written Tutorial...</td>\n",
              "      <td>...</td>\n",
              "      <td>NaN</td>\n",
              "      <td>NaN</td>\n",
              "      <td>NaN</td>\n",
              "      <td>NaN</td>\n",
              "      <td>NaN</td>\n",
              "      <td>NaN</td>\n",
              "      <td>Too short</td>\n",
              "      <td>Easy</td>\n",
              "      <td>NaN</td>\n",
              "      <td>NaN</td>\n",
              "    </tr>\n",
              "  </tbody>\n",
              "</table>\n",
              "<p>5 rows × 114 columns</p>\n",
              "</div>"
            ],
            "text/plain": [
              "   ResponseId                      MainBranch                 Age  \\\n",
              "0           1  I am a developer by profession  Under 18 years old   \n",
              "1           2  I am a developer by profession     35-44 years old   \n",
              "2           3  I am a developer by profession     45-54 years old   \n",
              "3           4           I am learning to code     18-24 years old   \n",
              "4           5  I am a developer by profession     18-24 years old   \n",
              "\n",
              "            Employment RemoteWork   Check  \\\n",
              "0  Employed, full-time     Remote  Apples   \n",
              "1  Employed, full-time     Remote  Apples   \n",
              "2  Employed, full-time     Remote  Apples   \n",
              "3   Student, full-time        NaN  Apples   \n",
              "4   Student, full-time        NaN  Apples   \n",
              "\n",
              "                                    CodingActivities  \\\n",
              "0                                              Hobby   \n",
              "1  Hobby;Contribute to open-source projects;Other...   \n",
              "2  Hobby;Contribute to open-source projects;Other...   \n",
              "3                                                NaN   \n",
              "4                                                NaN   \n",
              "\n",
              "                                             EdLevel  \\\n",
              "0                          Primary/elementary school   \n",
              "1       Bachelor’s degree (B.A., B.S., B.Eng., etc.)   \n",
              "2    Master’s degree (M.A., M.S., M.Eng., MBA, etc.)   \n",
              "3  Some college/university study without earning ...   \n",
              "4  Secondary school (e.g. American high school, G...   \n",
              "\n",
              "                                           LearnCode  \\\n",
              "0                             Books / Physical media   \n",
              "1  Books / Physical media;Colleague;On the job tr...   \n",
              "2  Books / Physical media;Colleague;On the job tr...   \n",
              "3  Other online resources (e.g., videos, blogs, f...   \n",
              "4  Other online resources (e.g., videos, blogs, f...   \n",
              "\n",
              "                                     LearnCodeOnline  ... JobSatPoints_6  \\\n",
              "0                                                NaN  ...            NaN   \n",
              "1  Technical documentation;Blogs;Books;Written Tu...  ...            0.0   \n",
              "2  Technical documentation;Blogs;Books;Written Tu...  ...            NaN   \n",
              "3  Stack Overflow;How-to videos;Interactive tutorial  ...            NaN   \n",
              "4  Technical documentation;Blogs;Written Tutorial...  ...            NaN   \n",
              "\n",
              "  JobSatPoints_7 JobSatPoints_8 JobSatPoints_9 JobSatPoints_10  \\\n",
              "0            NaN            NaN            NaN             NaN   \n",
              "1            0.0            0.0            0.0             0.0   \n",
              "2            NaN            NaN            NaN             NaN   \n",
              "3            NaN            NaN            NaN             NaN   \n",
              "4            NaN            NaN            NaN             NaN   \n",
              "\n",
              "  JobSatPoints_11           SurveyLength SurveyEase ConvertedCompYearly JobSat  \n",
              "0             NaN                    NaN        NaN                 NaN    NaN  \n",
              "1             0.0                    NaN        NaN                 NaN    NaN  \n",
              "2             NaN  Appropriate in length       Easy                 NaN    NaN  \n",
              "3             NaN               Too long       Easy                 NaN    NaN  \n",
              "4             NaN              Too short       Easy                 NaN    NaN  \n",
              "\n",
              "[5 rows x 114 columns]"
            ]
          },
          "execution_count": 4,
          "metadata": {},
          "output_type": "execute_result"
        }
      ],
      "source": [
        "df.head()"
      ]
    },
    {
      "cell_type": "code",
      "execution_count": 5,
      "metadata": {
        "colab": {
          "base_uri": "https://localhost:8080/"
        },
        "id": "Q55PYjHGA2S0",
        "outputId": "bc7d96ab-fe29-41a7-b113-240863b5b165"
      },
      "outputs": [
        {
          "name": "stdout",
          "output_type": "stream",
          "text": [
            "ResponseId, MainBranch, Age, Employment, RemoteWork, Check, CodingActivities, EdLevel, LearnCode, LearnCodeOnline, TechDoc, YearsCode, YearsCodePro, DevType, OrgSize, PurchaseInfluence, BuyNewTool, BuildvsBuy, TechEndorse, Country, Currency, CompTotal, LanguageHaveWorkedWith, LanguageWantToWorkWith, LanguageAdmired, DatabaseHaveWorkedWith, DatabaseWantToWorkWith, DatabaseAdmired, PlatformHaveWorkedWith, PlatformWantToWorkWith, PlatformAdmired, WebframeHaveWorkedWith, WebframeWantToWorkWith, WebframeAdmired, EmbeddedHaveWorkedWith, EmbeddedWantToWorkWith, EmbeddedAdmired, MiscTechHaveWorkedWith, MiscTechWantToWorkWith, MiscTechAdmired, ToolsTechHaveWorkedWith, ToolsTechWantToWorkWith, ToolsTechAdmired, NEWCollabToolsHaveWorkedWith, NEWCollabToolsWantToWorkWith, NEWCollabToolsAdmired, OpSysPersonal use, OpSysProfessional use, OfficeStackAsyncHaveWorkedWith, OfficeStackAsyncWantToWorkWith, OfficeStackAsyncAdmired, OfficeStackSyncHaveWorkedWith, OfficeStackSyncWantToWorkWith, OfficeStackSyncAdmired, AISearchDevHaveWorkedWith, AISearchDevWantToWorkWith, AISearchDevAdmired, NEWSOSites, SOVisitFreq, SOAccount, SOPartFreq, SOHow, SOComm, AISelect, AISent, AIBen, AIAcc, AIComplex, AIToolCurrently Using, AIToolInterested in Using, AIToolNot interested in Using, AINextMuch more integrated, AINextNo change, AINextMore integrated, AINextLess integrated, AINextMuch less integrated, AIThreat, AIEthics, AIChallenges, TBranch, ICorPM, WorkExp, Knowledge_1, Knowledge_2, Knowledge_3, Knowledge_4, Knowledge_5, Knowledge_6, Knowledge_7, Knowledge_8, Knowledge_9, Frequency_1, Frequency_2, Frequency_3, TimeSearching, TimeAnswering, Frustration, ProfessionalTech, ProfessionalCloud, ProfessionalQuestion, Industry, JobSatPoints_1, JobSatPoints_4, JobSatPoints_5, JobSatPoints_6, JobSatPoints_7, JobSatPoints_8, JobSatPoints_9, JobSatPoints_10, JobSatPoints_11, SurveyLength, SurveyEase, ConvertedCompYearly, JobSat, "
          ]
        }
      ],
      "source": [
        "# Lets have a look at all the columns in the database\n",
        "columns = df.columns\n",
        "for column in columns:\n",
        "  print(f'{column}, ', end='')"
      ]
    },
    {
      "cell_type": "markdown",
      "metadata": {
        "id": "KlPiNaJSKN3T"
      },
      "source": [
        "**Question 1:** What's the most **interesting** langauge for the USA?"
      ]
    },
    {
      "cell_type": "code",
      "execution_count": 6,
      "metadata": {
        "id": "lzGx0DikB4jf"
      },
      "outputs": [],
      "source": [
        "# First, remove everything that is not related to the question\n",
        "lan_cont_df = pd.concat([ df['Country'], df['LanguageWantToWorkWith']], axis=1)"
      ]
    },
    {
      "cell_type": "code",
      "execution_count": 7,
      "metadata": {
        "colab": {
          "base_uri": "https://localhost:8080/",
          "height": 206
        },
        "id": "iy0vtPRyFX3m",
        "outputId": "053ec80b-b6e8-4599-dce1-e56e48fca9cb"
      },
      "outputs": [
        {
          "data": {
            "text/html": [
              "<div>\n",
              "<style scoped>\n",
              "    .dataframe tbody tr th:only-of-type {\n",
              "        vertical-align: middle;\n",
              "    }\n",
              "\n",
              "    .dataframe tbody tr th {\n",
              "        vertical-align: top;\n",
              "    }\n",
              "\n",
              "    .dataframe thead th {\n",
              "        text-align: right;\n",
              "    }\n",
              "</style>\n",
              "<table border=\"1\" class=\"dataframe\">\n",
              "  <thead>\n",
              "    <tr style=\"text-align: right;\">\n",
              "      <th></th>\n",
              "      <th>Country</th>\n",
              "      <th>LanguageWantToWorkWith</th>\n",
              "    </tr>\n",
              "  </thead>\n",
              "  <tbody>\n",
              "    <tr>\n",
              "      <th>0</th>\n",
              "      <td>United States of America</td>\n",
              "      <td>NaN</td>\n",
              "    </tr>\n",
              "    <tr>\n",
              "      <th>1</th>\n",
              "      <td>United Kingdom of Great Britain and Northern I...</td>\n",
              "      <td>Bash/Shell (all shells);Go;HTML/CSS;Java;JavaS...</td>\n",
              "    </tr>\n",
              "    <tr>\n",
              "      <th>2</th>\n",
              "      <td>United Kingdom of Great Britain and Northern I...</td>\n",
              "      <td>C#</td>\n",
              "    </tr>\n",
              "    <tr>\n",
              "      <th>3</th>\n",
              "      <td>Canada</td>\n",
              "      <td>HTML/CSS;Java;JavaScript;PowerShell;Python;SQL...</td>\n",
              "    </tr>\n",
              "    <tr>\n",
              "      <th>4</th>\n",
              "      <td>Norway</td>\n",
              "      <td>C++;HTML/CSS;JavaScript;Lua;Python</td>\n",
              "    </tr>\n",
              "  </tbody>\n",
              "</table>\n",
              "</div>"
            ],
            "text/plain": [
              "                                             Country  \\\n",
              "0                           United States of America   \n",
              "1  United Kingdom of Great Britain and Northern I...   \n",
              "2  United Kingdom of Great Britain and Northern I...   \n",
              "3                                             Canada   \n",
              "4                                             Norway   \n",
              "\n",
              "                              LanguageWantToWorkWith  \n",
              "0                                                NaN  \n",
              "1  Bash/Shell (all shells);Go;HTML/CSS;Java;JavaS...  \n",
              "2                                                 C#  \n",
              "3  HTML/CSS;Java;JavaScript;PowerShell;Python;SQL...  \n",
              "4                 C++;HTML/CSS;JavaScript;Lua;Python  "
            ]
          },
          "execution_count": 7,
          "metadata": {},
          "output_type": "execute_result"
        }
      ],
      "source": [
        "lan_cont_df.head()"
      ]
    },
    {
      "cell_type": "code",
      "execution_count": 8,
      "metadata": {
        "colab": {
          "base_uri": "https://localhost:8080/",
          "height": 206
        },
        "id": "LKAOiW1KFZkW",
        "outputId": "670c0463-d468-46a5-ddf6-af6260114474"
      },
      "outputs": [
        {
          "data": {
            "text/html": [
              "<div>\n",
              "<style scoped>\n",
              "    .dataframe tbody tr th:only-of-type {\n",
              "        vertical-align: middle;\n",
              "    }\n",
              "\n",
              "    .dataframe tbody tr th {\n",
              "        vertical-align: top;\n",
              "    }\n",
              "\n",
              "    .dataframe thead th {\n",
              "        text-align: right;\n",
              "    }\n",
              "</style>\n",
              "<table border=\"1\" class=\"dataframe\">\n",
              "  <thead>\n",
              "    <tr style=\"text-align: right;\">\n",
              "      <th></th>\n",
              "      <th>Country</th>\n",
              "      <th>LanguageWantToWorkWith</th>\n",
              "    </tr>\n",
              "  </thead>\n",
              "  <tbody>\n",
              "    <tr>\n",
              "      <th>1</th>\n",
              "      <td>United Kingdom of Great Britain and Northern I...</td>\n",
              "      <td>Bash/Shell (all shells);Go;HTML/CSS;Java;JavaS...</td>\n",
              "    </tr>\n",
              "    <tr>\n",
              "      <th>2</th>\n",
              "      <td>United Kingdom of Great Britain and Northern I...</td>\n",
              "      <td>C#</td>\n",
              "    </tr>\n",
              "    <tr>\n",
              "      <th>3</th>\n",
              "      <td>Canada</td>\n",
              "      <td>HTML/CSS;Java;JavaScript;PowerShell;Python;SQL...</td>\n",
              "    </tr>\n",
              "    <tr>\n",
              "      <th>4</th>\n",
              "      <td>Norway</td>\n",
              "      <td>C++;HTML/CSS;JavaScript;Lua;Python</td>\n",
              "    </tr>\n",
              "    <tr>\n",
              "      <th>5</th>\n",
              "      <td>United States of America</td>\n",
              "      <td>Bash/Shell (all shells);HTML/CSS;Java;JavaScri...</td>\n",
              "    </tr>\n",
              "  </tbody>\n",
              "</table>\n",
              "</div>"
            ],
            "text/plain": [
              "                                             Country  \\\n",
              "1  United Kingdom of Great Britain and Northern I...   \n",
              "2  United Kingdom of Great Britain and Northern I...   \n",
              "3                                             Canada   \n",
              "4                                             Norway   \n",
              "5                           United States of America   \n",
              "\n",
              "                              LanguageWantToWorkWith  \n",
              "1  Bash/Shell (all shells);Go;HTML/CSS;Java;JavaS...  \n",
              "2                                                 C#  \n",
              "3  HTML/CSS;Java;JavaScript;PowerShell;Python;SQL...  \n",
              "4                 C++;HTML/CSS;JavaScript;Lua;Python  \n",
              "5  Bash/Shell (all shells);HTML/CSS;Java;JavaScri...  "
            ]
          },
          "execution_count": 8,
          "metadata": {},
          "output_type": "execute_result"
        }
      ],
      "source": [
        "# Drop the null values\n",
        "lan_cont_df.dropna(inplace=True)\n",
        "lan_cont_df.head()"
      ]
    },
    {
      "cell_type": "markdown",
      "metadata": {
        "id": "Vus5g2gDKpVe"
      },
      "source": [
        "As we can see, the languages column does not only contain one language. So, lets fix that."
      ]
    },
    {
      "cell_type": "code",
      "execution_count": 9,
      "metadata": {
        "colab": {
          "base_uri": "https://localhost:8080/",
          "height": 245
        },
        "id": "nLNaI8U9IbQJ",
        "outputId": "835d0b0c-8228-45cc-9fad-754fed2b6161"
      },
      "outputs": [
        {
          "data": {
            "text/html": [
              "<div>\n",
              "<style scoped>\n",
              "    .dataframe tbody tr th:only-of-type {\n",
              "        vertical-align: middle;\n",
              "    }\n",
              "\n",
              "    .dataframe tbody tr th {\n",
              "        vertical-align: top;\n",
              "    }\n",
              "\n",
              "    .dataframe thead th {\n",
              "        text-align: right;\n",
              "    }\n",
              "</style>\n",
              "<table border=\"1\" class=\"dataframe\">\n",
              "  <thead>\n",
              "    <tr style=\"text-align: right;\">\n",
              "      <th></th>\n",
              "      <th>Country</th>\n",
              "      <th>LanguageWantToWorkWith</th>\n",
              "    </tr>\n",
              "  </thead>\n",
              "  <tbody>\n",
              "    <tr>\n",
              "      <th>1</th>\n",
              "      <td>United Kingdom of Great Britain and Northern I...</td>\n",
              "      <td>[Bash/Shell (all shells), Go, HTML/CSS, Java, ...</td>\n",
              "    </tr>\n",
              "    <tr>\n",
              "      <th>2</th>\n",
              "      <td>United Kingdom of Great Britain and Northern I...</td>\n",
              "      <td>[C#]</td>\n",
              "    </tr>\n",
              "    <tr>\n",
              "      <th>3</th>\n",
              "      <td>Canada</td>\n",
              "      <td>[HTML/CSS, Java, JavaScript, PowerShell, Pytho...</td>\n",
              "    </tr>\n",
              "    <tr>\n",
              "      <th>4</th>\n",
              "      <td>Norway</td>\n",
              "      <td>[C++, HTML/CSS, JavaScript, Lua, Python]</td>\n",
              "    </tr>\n",
              "    <tr>\n",
              "      <th>5</th>\n",
              "      <td>United States of America</td>\n",
              "      <td>[Bash/Shell (all shells), HTML/CSS, Java, Java...</td>\n",
              "    </tr>\n",
              "  </tbody>\n",
              "</table>\n",
              "</div>"
            ],
            "text/plain": [
              "                                             Country  \\\n",
              "1  United Kingdom of Great Britain and Northern I...   \n",
              "2  United Kingdom of Great Britain and Northern I...   \n",
              "3                                             Canada   \n",
              "4                                             Norway   \n",
              "5                           United States of America   \n",
              "\n",
              "                              LanguageWantToWorkWith  \n",
              "1  [Bash/Shell (all shells), Go, HTML/CSS, Java, ...  \n",
              "2                                               [C#]  \n",
              "3  [HTML/CSS, Java, JavaScript, PowerShell, Pytho...  \n",
              "4           [C++, HTML/CSS, JavaScript, Lua, Python]  \n",
              "5  [Bash/Shell (all shells), HTML/CSS, Java, Java...  "
            ]
          },
          "execution_count": 9,
          "metadata": {},
          "output_type": "execute_result"
        }
      ],
      "source": [
        "# Split the Language column into individual languages\n",
        "lan_cont_df['LanguageWantToWorkWith'] = lan_cont_df['LanguageWantToWorkWith'].str.split(';')\n",
        "lan_cont_df.head()"
      ]
    },
    {
      "cell_type": "code",
      "execution_count": 10,
      "metadata": {
        "colab": {
          "base_uri": "https://localhost:8080/",
          "height": 206
        },
        "id": "hyxFUz10kAnr",
        "outputId": "87c9a8ae-5af9-471a-9a41-8e4df01a40d8"
      },
      "outputs": [
        {
          "data": {
            "text/html": [
              "<div>\n",
              "<style scoped>\n",
              "    .dataframe tbody tr th:only-of-type {\n",
              "        vertical-align: middle;\n",
              "    }\n",
              "\n",
              "    .dataframe tbody tr th {\n",
              "        vertical-align: top;\n",
              "    }\n",
              "\n",
              "    .dataframe thead th {\n",
              "        text-align: right;\n",
              "    }\n",
              "</style>\n",
              "<table border=\"1\" class=\"dataframe\">\n",
              "  <thead>\n",
              "    <tr style=\"text-align: right;\">\n",
              "      <th></th>\n",
              "      <th>Country</th>\n",
              "      <th>LanguageWantToWorkWith</th>\n",
              "    </tr>\n",
              "  </thead>\n",
              "  <tbody>\n",
              "    <tr>\n",
              "      <th>1</th>\n",
              "      <td>United Kingdom of Great Britain and Northern I...</td>\n",
              "      <td>Bash/Shell (all shells)</td>\n",
              "    </tr>\n",
              "    <tr>\n",
              "      <th>1</th>\n",
              "      <td>United Kingdom of Great Britain and Northern I...</td>\n",
              "      <td>Go</td>\n",
              "    </tr>\n",
              "    <tr>\n",
              "      <th>1</th>\n",
              "      <td>United Kingdom of Great Britain and Northern I...</td>\n",
              "      <td>HTML/CSS</td>\n",
              "    </tr>\n",
              "    <tr>\n",
              "      <th>1</th>\n",
              "      <td>United Kingdom of Great Britain and Northern I...</td>\n",
              "      <td>Java</td>\n",
              "    </tr>\n",
              "    <tr>\n",
              "      <th>1</th>\n",
              "      <td>United Kingdom of Great Britain and Northern I...</td>\n",
              "      <td>JavaScript</td>\n",
              "    </tr>\n",
              "  </tbody>\n",
              "</table>\n",
              "</div>"
            ],
            "text/plain": [
              "                                             Country   LanguageWantToWorkWith\n",
              "1  United Kingdom of Great Britain and Northern I...  Bash/Shell (all shells)\n",
              "1  United Kingdom of Great Britain and Northern I...                       Go\n",
              "1  United Kingdom of Great Britain and Northern I...                 HTML/CSS\n",
              "1  United Kingdom of Great Britain and Northern I...                     Java\n",
              "1  United Kingdom of Great Britain and Northern I...               JavaScript"
            ]
          },
          "execution_count": 10,
          "metadata": {},
          "output_type": "execute_result"
        }
      ],
      "source": [
        "# Expand the DataFrame so each row has one language per row\n",
        "lan_cont_df = lan_cont_df.explode('LanguageWantToWorkWith')\n",
        "lan_cont_df.head()"
      ]
    },
    {
      "cell_type": "markdown",
      "metadata": {},
      "source": [
        "**Looks perfect!**"
      ]
    },
    {
      "cell_type": "code",
      "execution_count": 11,
      "metadata": {
        "colab": {
          "base_uri": "https://localhost:8080/",
          "height": 423
        },
        "id": "7VjMycT1Q7jp",
        "outputId": "aaf8d952-bef3-4af4-ecd0-cf436b5f45e3"
      },
      "outputs": [
        {
          "data": {
            "text/html": [
              "<div>\n",
              "<style scoped>\n",
              "    .dataframe tbody tr th:only-of-type {\n",
              "        vertical-align: middle;\n",
              "    }\n",
              "\n",
              "    .dataframe tbody tr th {\n",
              "        vertical-align: top;\n",
              "    }\n",
              "\n",
              "    .dataframe thead th {\n",
              "        text-align: right;\n",
              "    }\n",
              "</style>\n",
              "<table border=\"1\" class=\"dataframe\">\n",
              "  <thead>\n",
              "    <tr style=\"text-align: right;\">\n",
              "      <th></th>\n",
              "      <th>Country</th>\n",
              "      <th>LanguageWantToWorkWith</th>\n",
              "      <th>count</th>\n",
              "    </tr>\n",
              "  </thead>\n",
              "  <tbody>\n",
              "    <tr>\n",
              "      <th>0</th>\n",
              "      <td>Afghanistan</td>\n",
              "      <td>Ada</td>\n",
              "      <td>8</td>\n",
              "    </tr>\n",
              "    <tr>\n",
              "      <th>1</th>\n",
              "      <td>Afghanistan</td>\n",
              "      <td>Apex</td>\n",
              "      <td>5</td>\n",
              "    </tr>\n",
              "    <tr>\n",
              "      <th>2</th>\n",
              "      <td>Afghanistan</td>\n",
              "      <td>Assembly</td>\n",
              "      <td>8</td>\n",
              "    </tr>\n",
              "    <tr>\n",
              "      <th>3</th>\n",
              "      <td>Afghanistan</td>\n",
              "      <td>Bash/Shell (all shells)</td>\n",
              "      <td>13</td>\n",
              "    </tr>\n",
              "    <tr>\n",
              "      <th>4</th>\n",
              "      <td>Afghanistan</td>\n",
              "      <td>C</td>\n",
              "      <td>7</td>\n",
              "    </tr>\n",
              "    <tr>\n",
              "      <th>...</th>\n",
              "      <td>...</td>\n",
              "      <td>...</td>\n",
              "      <td>...</td>\n",
              "    </tr>\n",
              "    <tr>\n",
              "      <th>5720</th>\n",
              "      <td>Zimbabwe</td>\n",
              "      <td>SQL</td>\n",
              "      <td>14</td>\n",
              "    </tr>\n",
              "    <tr>\n",
              "      <th>5721</th>\n",
              "      <td>Zimbabwe</td>\n",
              "      <td>Solidity</td>\n",
              "      <td>2</td>\n",
              "    </tr>\n",
              "    <tr>\n",
              "      <th>5722</th>\n",
              "      <td>Zimbabwe</td>\n",
              "      <td>Swift</td>\n",
              "      <td>2</td>\n",
              "    </tr>\n",
              "    <tr>\n",
              "      <th>5723</th>\n",
              "      <td>Zimbabwe</td>\n",
              "      <td>TypeScript</td>\n",
              "      <td>11</td>\n",
              "    </tr>\n",
              "    <tr>\n",
              "      <th>5724</th>\n",
              "      <td>Zimbabwe</td>\n",
              "      <td>Zig</td>\n",
              "      <td>1</td>\n",
              "    </tr>\n",
              "  </tbody>\n",
              "</table>\n",
              "<p>5725 rows × 3 columns</p>\n",
              "</div>"
            ],
            "text/plain": [
              "          Country   LanguageWantToWorkWith  count\n",
              "0     Afghanistan                      Ada      8\n",
              "1     Afghanistan                     Apex      5\n",
              "2     Afghanistan                 Assembly      8\n",
              "3     Afghanistan  Bash/Shell (all shells)     13\n",
              "4     Afghanistan                        C      7\n",
              "...           ...                      ...    ...\n",
              "5720     Zimbabwe                      SQL     14\n",
              "5721     Zimbabwe                 Solidity      2\n",
              "5722     Zimbabwe                    Swift      2\n",
              "5723     Zimbabwe               TypeScript     11\n",
              "5724     Zimbabwe                      Zig      1\n",
              "\n",
              "[5725 rows x 3 columns]"
            ]
          },
          "execution_count": 11,
          "metadata": {},
          "output_type": "execute_result"
        }
      ],
      "source": [
        "# Count the occurrences of each language by country\n",
        "language_count_by_country = lan_cont_df.groupby(['Country', 'LanguageWantToWorkWith']).size().reset_index(name='count')\n",
        "language_count_by_country"
      ]
    },
    {
      "cell_type": "code",
      "execution_count": 12,
      "metadata": {
        "colab": {
          "base_uri": "https://localhost:8080/",
          "height": 423
        },
        "id": "OBILUBdtQ9dO",
        "outputId": "3e840755-18d9-4ab8-e668-614284ada5ff"
      },
      "outputs": [
        {
          "data": {
            "text/html": [
              "<div>\n",
              "<style scoped>\n",
              "    .dataframe tbody tr th:only-of-type {\n",
              "        vertical-align: middle;\n",
              "    }\n",
              "\n",
              "    .dataframe tbody tr th {\n",
              "        vertical-align: top;\n",
              "    }\n",
              "\n",
              "    .dataframe thead th {\n",
              "        text-align: right;\n",
              "    }\n",
              "</style>\n",
              "<table border=\"1\" class=\"dataframe\">\n",
              "  <thead>\n",
              "    <tr style=\"text-align: right;\">\n",
              "      <th></th>\n",
              "      <th>Country</th>\n",
              "      <th>LanguageWantToWorkWith</th>\n",
              "      <th>count</th>\n",
              "    </tr>\n",
              "  </thead>\n",
              "  <tbody>\n",
              "    <tr>\n",
              "      <th>22</th>\n",
              "      <td>Afghanistan</td>\n",
              "      <td>JavaScript</td>\n",
              "      <td>22</td>\n",
              "    </tr>\n",
              "    <tr>\n",
              "      <th>77</th>\n",
              "      <td>Albania</td>\n",
              "      <td>SQL</td>\n",
              "      <td>21</td>\n",
              "    </tr>\n",
              "    <tr>\n",
              "      <th>99</th>\n",
              "      <td>Algeria</td>\n",
              "      <td>JavaScript</td>\n",
              "      <td>41</td>\n",
              "    </tr>\n",
              "    <tr>\n",
              "      <th>136</th>\n",
              "      <td>Andorra</td>\n",
              "      <td>SQL</td>\n",
              "      <td>8</td>\n",
              "    </tr>\n",
              "    <tr>\n",
              "      <th>167</th>\n",
              "      <td>Angola</td>\n",
              "      <td>Python</td>\n",
              "      <td>8</td>\n",
              "    </tr>\n",
              "    <tr>\n",
              "      <th>...</th>\n",
              "      <td>...</td>\n",
              "      <td>...</td>\n",
              "      <td>...</td>\n",
              "    </tr>\n",
              "    <tr>\n",
              "      <th>5586</th>\n",
              "      <td>Venezuela, Bolivarian Republic of...</td>\n",
              "      <td>JavaScript</td>\n",
              "      <td>34</td>\n",
              "    </tr>\n",
              "    <tr>\n",
              "      <th>5625</th>\n",
              "      <td>Viet Nam</td>\n",
              "      <td>JavaScript</td>\n",
              "      <td>120</td>\n",
              "    </tr>\n",
              "    <tr>\n",
              "      <th>5660</th>\n",
              "      <td>Yemen</td>\n",
              "      <td>HTML/CSS</td>\n",
              "      <td>8</td>\n",
              "    </tr>\n",
              "    <tr>\n",
              "      <th>5689</th>\n",
              "      <td>Zambia</td>\n",
              "      <td>Python</td>\n",
              "      <td>9</td>\n",
              "    </tr>\n",
              "    <tr>\n",
              "      <th>5718</th>\n",
              "      <td>Zimbabwe</td>\n",
              "      <td>Python</td>\n",
              "      <td>15</td>\n",
              "    </tr>\n",
              "  </tbody>\n",
              "</table>\n",
              "<p>184 rows × 3 columns</p>\n",
              "</div>"
            ],
            "text/plain": [
              "                                   Country LanguageWantToWorkWith  count\n",
              "22                             Afghanistan             JavaScript     22\n",
              "77                                 Albania                    SQL     21\n",
              "99                                 Algeria             JavaScript     41\n",
              "136                                Andorra                    SQL      8\n",
              "167                                 Angola                 Python      8\n",
              "...                                    ...                    ...    ...\n",
              "5586  Venezuela, Bolivarian Republic of...             JavaScript     34\n",
              "5625                              Viet Nam             JavaScript    120\n",
              "5660                                 Yemen               HTML/CSS      8\n",
              "5689                                Zambia                 Python      9\n",
              "5718                              Zimbabwe                 Python     15\n",
              "\n",
              "[184 rows x 3 columns]"
            ]
          },
          "execution_count": 12,
          "metadata": {},
          "output_type": "execute_result"
        }
      ],
      "source": [
        "# Find the most common language per country\n",
        "most_wanted_language_by_country = language_count_by_country.loc[language_count_by_country.groupby('Country')['count'].idxmax()]\n",
        "most_wanted_language_by_country"
      ]
    },
    {
      "cell_type": "markdown",
      "metadata": {
        "id": "OnvXfC2nqP6y"
      },
      "source": [
        "Visualize the data"
      ]
    },
    {
      "cell_type": "code",
      "execution_count": 13,
      "metadata": {
        "colab": {
          "base_uri": "https://localhost:8080/",
          "height": 937
        },
        "id": "9NCTClNlqPnK",
        "outputId": "0cd86753-09f5-48f1-b52e-393b21b1e6ce"
      },
      "outputs": [
        {
          "data": {
            "image/png": "[encoded data removed]",
            "text/plain": [
              "<Figure size 1200x800 with 1 Axes>"
            ]
          },
          "metadata": {},
          "output_type": "display_data"
        }
      ],
      "source": [
        "import matplotlib.pyplot as plt\n",
        "import seaborn as sns\n",
        "\n",
        "# Create a bar plot\n",
        "plt.figure(figsize=(12, 8))\n",
        "sns.barplot(x='count', y='Country', hue='LanguageWantToWorkWith', data=most_wanted_language_by_country.head())\n",
        "\n",
        "# Add labels and title\n",
        "plt.xlabel('Count')\n",
        "plt.ylabel('Country')\n",
        "plt.title('Most Wanted Programming Languages by Country')\n",
        "plt.legend(title='Language', bbox_to_anchor=(1, 1))\n",
        "\n",
        "# Show the plot\n",
        "plt.tight_layout()\n",
        "plt.show()"
      ]
    },
    {
      "cell_type": "markdown",
      "metadata": {
        "id": "tNgwNshdWP8I"
      },
      "source": [
        "How can we use this?\n",
        "Say you want to make an online course on a programming language and you want to market it. The smartest way is to choose the language that is used most by your customer segments."
      ]
    },
    {
      "cell_type": "markdown",
      "metadata": {
        "id": "aYC7G2MQiovf"
      },
      "source": [
        "**Example:** You want to make a course, and your targeted customer segment are the US programmers."
      ]
    },
    {
      "cell_type": "markdown",
      "metadata": {
        "id": "K9CtU6L0i6Yd"
      },
      "source": [
        "What language should you teach?"
      ]
    },
    {
      "cell_type": "code",
      "execution_count": 14,
      "metadata": {
        "colab": {
          "base_uri": "https://localhost:8080/",
          "height": 89
        },
        "id": "El6FrJD1RtjL",
        "outputId": "341be873-a9e0-4429-9f1e-756b091381f8"
      },
      "outputs": [
        {
          "data": {
            "text/html": [
              "<div>\n",
              "<style scoped>\n",
              "    .dataframe tbody tr th:only-of-type {\n",
              "        vertical-align: middle;\n",
              "    }\n",
              "\n",
              "    .dataframe tbody tr th {\n",
              "        vertical-align: top;\n",
              "    }\n",
              "\n",
              "    .dataframe thead th {\n",
              "        text-align: right;\n",
              "    }\n",
              "</style>\n",
              "<table border=\"1\" class=\"dataframe\">\n",
              "  <thead>\n",
              "    <tr style=\"text-align: right;\">\n",
              "      <th></th>\n",
              "      <th>Country</th>\n",
              "      <th>LanguageWantToWorkWith</th>\n",
              "      <th>count</th>\n",
              "    </tr>\n",
              "  </thead>\n",
              "  <tbody>\n",
              "    <tr>\n",
              "      <th>5480</th>\n",
              "      <td>United States of America</td>\n",
              "      <td>Python</td>\n",
              "      <td>4856</td>\n",
              "    </tr>\n",
              "  </tbody>\n",
              "</table>\n",
              "</div>"
            ],
            "text/plain": [
              "                       Country LanguageWantToWorkWith  count\n",
              "5480  United States of America                 Python   4856"
            ]
          },
          "execution_count": 14,
          "metadata": {},
          "output_type": "execute_result"
        }
      ],
      "source": [
        "# Find the most common language in the US\n",
        "most_wanted_us_language = most_wanted_language_by_country[most_wanted_language_by_country['Country']=='United States of America']\n",
        "most_wanted_us_language"
      ]
    },
    {
      "cell_type": "markdown",
      "metadata": {},
      "source": [
        "**It looks like the best choice is to teach Python!**"
      ]
    },
    {
      "cell_type": "markdown",
      "metadata": {},
      "source": [
        "**Question 2:** Does the employment type of the customer segment play a role in their interest?"
      ]
    },
    {
      "cell_type": "code",
      "execution_count": 15,
      "metadata": {
        "id": "kOFaBSA2W4WO"
      },
      "outputs": [],
      "source": [
        "emp_cont_df = pd.concat([ df['Country'], df['Employment']], axis=1)"
      ]
    },
    {
      "cell_type": "code",
      "execution_count": 16,
      "metadata": {},
      "outputs": [
        {
          "data": {
            "text/html": [
              "<div>\n",
              "<style scoped>\n",
              "    .dataframe tbody tr th:only-of-type {\n",
              "        vertical-align: middle;\n",
              "    }\n",
              "\n",
              "    .dataframe tbody tr th {\n",
              "        vertical-align: top;\n",
              "    }\n",
              "\n",
              "    .dataframe thead th {\n",
              "        text-align: right;\n",
              "    }\n",
              "</style>\n",
              "<table border=\"1\" class=\"dataframe\">\n",
              "  <thead>\n",
              "    <tr style=\"text-align: right;\">\n",
              "      <th></th>\n",
              "      <th>Country</th>\n",
              "      <th>Employment</th>\n",
              "    </tr>\n",
              "  </thead>\n",
              "  <tbody>\n",
              "    <tr>\n",
              "      <th>0</th>\n",
              "      <td>United States of America</td>\n",
              "      <td>Employed, full-time</td>\n",
              "    </tr>\n",
              "    <tr>\n",
              "      <th>1</th>\n",
              "      <td>United Kingdom of Great Britain and Northern I...</td>\n",
              "      <td>Employed, full-time</td>\n",
              "    </tr>\n",
              "    <tr>\n",
              "      <th>2</th>\n",
              "      <td>United Kingdom of Great Britain and Northern I...</td>\n",
              "      <td>Employed, full-time</td>\n",
              "    </tr>\n",
              "    <tr>\n",
              "      <th>3</th>\n",
              "      <td>Canada</td>\n",
              "      <td>Student, full-time</td>\n",
              "    </tr>\n",
              "    <tr>\n",
              "      <th>4</th>\n",
              "      <td>Norway</td>\n",
              "      <td>Student, full-time</td>\n",
              "    </tr>\n",
              "  </tbody>\n",
              "</table>\n",
              "</div>"
            ],
            "text/plain": [
              "                                             Country           Employment\n",
              "0                           United States of America  Employed, full-time\n",
              "1  United Kingdom of Great Britain and Northern I...  Employed, full-time\n",
              "2  United Kingdom of Great Britain and Northern I...  Employed, full-time\n",
              "3                                             Canada   Student, full-time\n",
              "4                                             Norway   Student, full-time"
            ]
          },
          "execution_count": 16,
          "metadata": {},
          "output_type": "execute_result"
        }
      ],
      "source": [
        "emp_cont_df.head()"
      ]
    },
    {
      "cell_type": "code",
      "execution_count": 17,
      "metadata": {},
      "outputs": [
        {
          "data": {
            "text/plain": [
              "array(['Employed, full-time', 'Student, full-time',\n",
              "       'Student, full-time;Not employed, but looking for work',\n",
              "       'Independent contractor, freelancer, or self-employed',\n",
              "       'Not employed, and not looking for work',\n",
              "       'Employed, full-time;Student, part-time',\n",
              "       'Employed, full-time;Independent contractor, freelancer, or self-employed',\n",
              "       'Employed, full-time;Student, full-time', 'Employed, part-time',\n",
              "       'Student, full-time;Employed, part-time',\n",
              "       'Student, part-time;Employed, part-time', 'I prefer not to say',\n",
              "       'Not employed, but looking for work', 'Student, part-time',\n",
              "       'Employed, full-time;Student, full-time;Independent contractor, freelancer, or self-employed;Employed, part-time',\n",
              "       'Employed, full-time;Independent contractor, freelancer, or self-employed;Student, part-time',\n",
              "       'Independent contractor, freelancer, or self-employed;Employed, part-time',\n",
              "       'Independent contractor, freelancer, or self-employed;Student, part-time;Employed, part-time',\n",
              "       'Student, full-time;Not employed, but looking for work;Independent contractor, freelancer, or self-employed',\n",
              "       'Student, full-time;Independent contractor, freelancer, or self-employed',\n",
              "       'Employed, full-time;Employed, part-time',\n",
              "       'Not employed, but looking for work;Independent contractor, freelancer, or self-employed',\n",
              "       'Student, full-time;Not employed, and not looking for work',\n",
              "       'Retired',\n",
              "       'Independent contractor, freelancer, or self-employed;Student, part-time',\n",
              "       'Employed, full-time;Independent contractor, freelancer, or self-employed;Employed, part-time',\n",
              "       'Not employed, but looking for work;Independent contractor, freelancer, or self-employed;Student, part-time',\n",
              "       'Not employed, but looking for work;Student, part-time',\n",
              "       'Not employed, but looking for work;Not employed, and not looking for work',\n",
              "       'Independent contractor, freelancer, or self-employed;Retired',\n",
              "       'Not employed, but looking for work;Student, part-time;Employed, part-time',\n",
              "       'Student, full-time;Not employed, but looking for work;Not employed, and not looking for work',\n",
              "       'Employed, full-time;Not employed, but looking for work',\n",
              "       'Student, full-time;Not employed, and not looking for work;Student, part-time',\n",
              "       'Employed, full-time;Retired',\n",
              "       'Employed, full-time;Independent contractor, freelancer, or self-employed;Student, part-time;Employed, part-time',\n",
              "       'Not employed, but looking for work;Independent contractor, freelancer, or self-employed;Not employed, and not looking for work',\n",
              "       'Not employed, but looking for work;Independent contractor, freelancer, or self-employed;Employed, part-time',\n",
              "       'Not employed, but looking for work;Employed, part-time',\n",
              "       'Employed, full-time;Student, full-time;Employed, part-time',\n",
              "       'Independent contractor, freelancer, or self-employed;Not employed, and not looking for work',\n",
              "       'Not employed, and not looking for work;Student, part-time',\n",
              "       'Student, full-time;Independent contractor, freelancer, or self-employed;Employed, part-time',\n",
              "       'Student, full-time;Student, part-time',\n",
              "       'Student, full-time;Not employed, but looking for work;Student, part-time',\n",
              "       'Independent contractor, freelancer, or self-employed;Not employed, and not looking for work;Retired',\n",
              "       'Employed, full-time;Independent contractor, freelancer, or self-employed;Not employed, and not looking for work',\n",
              "       'Employed, full-time;Student, full-time;Independent contractor, freelancer, or self-employed',\n",
              "       'Employed, full-time;Student, full-time;Student, part-time',\n",
              "       'Not employed, but looking for work;Retired',\n",
              "       'Employed, full-time;Student, full-time;Not employed, but looking for work',\n",
              "       'Not employed, and not looking for work;Retired',\n",
              "       'Not employed, but looking for work;Independent contractor, freelancer, or self-employed;Not employed, and not looking for work;Retired',\n",
              "       'Employed, full-time;Not employed, but looking for work;Employed, part-time',\n",
              "       'Student, full-time;Not employed, but looking for work;Independent contractor, freelancer, or self-employed;Student, part-time;Employed, part-time;Retired',\n",
              "       'Employed, full-time;Independent contractor, freelancer, or self-employed;Not employed, and not looking for work;Employed, part-time',\n",
              "       'Student, full-time;Independent contractor, freelancer, or self-employed;Not employed, and not looking for work',\n",
              "       'Employed, full-time;Student, full-time;Not employed, but looking for work;Independent contractor, freelancer, or self-employed;Not employed, and not looking for work;Student, part-time;Employed, part-time;Retired',\n",
              "       'Employed, full-time;Not employed, but looking for work;Independent contractor, freelancer, or self-employed',\n",
              "       'Independent contractor, freelancer, or self-employed;Not employed, and not looking for work;Student, part-time',\n",
              "       'Student, full-time;Not employed, but looking for work;Retired',\n",
              "       'Student, full-time;Not employed, but looking for work;Independent contractor, freelancer, or self-employed;Student, part-time',\n",
              "       'Student, part-time;Retired',\n",
              "       'Student, full-time;Not employed, but looking for work;Not employed, and not looking for work;Student, part-time',\n",
              "       'Employed, full-time;Student, full-time;Not employed, but looking for work;Independent contractor, freelancer, or self-employed;Student, part-time;Employed, part-time',\n",
              "       'Not employed, but looking for work;Independent contractor, freelancer, or self-employed;Retired',\n",
              "       'Employed, full-time;Student, full-time;Student, part-time;Employed, part-time',\n",
              "       'Not employed, but looking for work;Independent contractor, freelancer, or self-employed;Student, part-time;Employed, part-time',\n",
              "       'Student, full-time;Not employed, but looking for work;Employed, part-time',\n",
              "       'Employed, full-time;Independent contractor, freelancer, or self-employed;Not employed, and not looking for work;Student, part-time',\n",
              "       'Independent contractor, freelancer, or self-employed;Student, part-time;Retired',\n",
              "       'Student, full-time;Independent contractor, freelancer, or self-employed;Student, part-time;Employed, part-time',\n",
              "       'Employed, full-time;Independent contractor, freelancer, or self-employed;Student, part-time;Retired',\n",
              "       'Student, full-time;Not employed, but looking for work;Independent contractor, freelancer, or self-employed;Not employed, and not looking for work',\n",
              "       'Student, full-time;Not employed, but looking for work;Independent contractor, freelancer, or self-employed;Employed, part-time',\n",
              "       'Student, full-time;Independent contractor, freelancer, or self-employed;Student, part-time',\n",
              "       'Independent contractor, freelancer, or self-employed;Employed, part-time;Retired',\n",
              "       'Employed, full-time;Not employed, and not looking for work',\n",
              "       'Employed, full-time;Independent contractor, freelancer, or self-employed;Retired',\n",
              "       'Student, full-time;Student, part-time;Employed, part-time',\n",
              "       'Employed, part-time;Retired',\n",
              "       'Employed, full-time;Independent contractor, freelancer, or self-employed;Employed, part-time;Retired',\n",
              "       'Employed, full-time;Student, part-time;Employed, part-time',\n",
              "       'Employed, full-time;Student, full-time;Independent contractor, freelancer, or self-employed;Student, part-time;Employed, part-time;Retired',\n",
              "       'Student, full-time;Student, part-time;Retired',\n",
              "       'Student, full-time;Not employed, and not looking for work;Employed, part-time',\n",
              "       'Employed, full-time;Not employed, but looking for work;Independent contractor, freelancer, or self-employed;Employed, part-time',\n",
              "       'Not employed, but looking for work;Not employed, and not looking for work;Student, part-time;Employed, part-time',\n",
              "       'Independent contractor, freelancer, or self-employed;Not employed, and not looking for work;Employed, part-time',\n",
              "       'Employed, full-time;Not employed, but looking for work;Independent contractor, freelancer, or self-employed;Not employed, and not looking for work;Employed, part-time',\n",
              "       'Employed, full-time;Student, full-time;Not employed, but looking for work;Independent contractor, freelancer, or self-employed;Not employed, and not looking for work;Student, part-time;Employed, part-time',\n",
              "       'Employed, full-time;Student, full-time;Independent contractor, freelancer, or self-employed;Student, part-time;Employed, part-time',\n",
              "       'Not employed, and not looking for work;Employed, part-time',\n",
              "       'Employed, full-time;Student, full-time;Not employed, but looking for work;Student, part-time',\n",
              "       'Employed, full-time;Student, full-time;Not employed, but looking for work;Independent contractor, freelancer, or self-employed;Employed, part-time',\n",
              "       'Employed, full-time;Not employed, but looking for work;Not employed, and not looking for work;Employed, part-time',\n",
              "       'Student, full-time;Independent contractor, freelancer, or self-employed;Employed, part-time;Retired',\n",
              "       'Not employed, but looking for work;Student, part-time;Retired',\n",
              "       'Independent contractor, freelancer, or self-employed;Not employed, and not looking for work;Student, part-time;Retired',\n",
              "       'Employed, full-time;Student, full-time;Not employed, but looking for work;Independent contractor, freelancer, or self-employed',\n",
              "       'Not employed, but looking for work;Not employed, and not looking for work;Student, part-time',\n",
              "       'Employed, full-time;Student, full-time;Independent contractor, freelancer, or self-employed;Student, part-time;Retired',\n",
              "       'Employed, full-time;Student, full-time;Not employed, but looking for work;Student, part-time;Employed, part-time',\n",
              "       'Student, full-time;Not employed, but looking for work;Independent contractor, freelancer, or self-employed;Not employed, and not looking for work;Student, part-time',\n",
              "       'Employed, full-time;Student, full-time;Not employed, but looking for work;Independent contractor, freelancer, or self-employed;Student, part-time;Employed, part-time;Retired',\n",
              "       'Not employed, but looking for work;Independent contractor, freelancer, or self-employed;Not employed, and not looking for work;Employed, part-time',\n",
              "       'Student, full-time;Retired',\n",
              "       'Employed, full-time;Not employed, but looking for work;Student, part-time',\n",
              "       'Not employed, and not looking for work;Student, part-time;Employed, part-time',\n",
              "       'Not employed, but looking for work;Independent contractor, freelancer, or self-employed;Student, part-time;Retired'],\n",
              "      dtype=object)"
            ]
          },
          "execution_count": 17,
          "metadata": {},
          "output_type": "execute_result"
        }
      ],
      "source": [
        "# Lets have a look at the unique values of employment\n",
        "emp_cont_df['Employment'].unique()"
      ]
    },
    {
      "cell_type": "code",
      "execution_count": 18,
      "metadata": {},
      "outputs": [
        {
          "data": {
            "text/html": [
              "<div>\n",
              "<style scoped>\n",
              "    .dataframe tbody tr th:only-of-type {\n",
              "        vertical-align: middle;\n",
              "    }\n",
              "\n",
              "    .dataframe tbody tr th {\n",
              "        vertical-align: top;\n",
              "    }\n",
              "\n",
              "    .dataframe thead th {\n",
              "        text-align: right;\n",
              "    }\n",
              "</style>\n",
              "<table border=\"1\" class=\"dataframe\">\n",
              "  <thead>\n",
              "    <tr style=\"text-align: right;\">\n",
              "      <th></th>\n",
              "      <th>Country</th>\n",
              "      <th>Employment</th>\n",
              "    </tr>\n",
              "  </thead>\n",
              "  <tbody>\n",
              "    <tr>\n",
              "      <th>0</th>\n",
              "      <td>United States of America</td>\n",
              "      <td>Employed, full-time</td>\n",
              "    </tr>\n",
              "    <tr>\n",
              "      <th>5</th>\n",
              "      <td>United States of America</td>\n",
              "      <td>Student, full-time</td>\n",
              "    </tr>\n",
              "    <tr>\n",
              "      <th>6</th>\n",
              "      <td>United States of America</td>\n",
              "      <td>Employed, full-time</td>\n",
              "    </tr>\n",
              "    <tr>\n",
              "      <th>10</th>\n",
              "      <td>United States of America</td>\n",
              "      <td>Employed, full-time</td>\n",
              "    </tr>\n",
              "    <tr>\n",
              "      <th>12</th>\n",
              "      <td>United States of America</td>\n",
              "      <td>Employed, full-time</td>\n",
              "    </tr>\n",
              "  </tbody>\n",
              "</table>\n",
              "</div>"
            ],
            "text/plain": [
              "                     Country           Employment\n",
              "0   United States of America  Employed, full-time\n",
              "5   United States of America   Student, full-time\n",
              "6   United States of America  Employed, full-time\n",
              "10  United States of America  Employed, full-time\n",
              "12  United States of America  Employed, full-time"
            ]
          },
          "execution_count": 18,
          "metadata": {},
          "output_type": "execute_result"
        }
      ],
      "source": [
        "# Lets get the employment types of US programmers\n",
        "emp_us_df = emp_cont_df[emp_cont_df['Country']=='United States of America']\n",
        "emp_us_df.head()"
      ]
    },
    {
      "cell_type": "code",
      "execution_count": 19,
      "metadata": {},
      "outputs": [
        {
          "data": {
            "text/plain": [
              "Employment\n",
              "Employed, full-time                                                                                                                                  39041\n",
              "Independent contractor, freelancer, or self-employed                                                                                                  4846\n",
              "Student, full-time                                                                                                                                    4709\n",
              "Employed, full-time;Independent contractor, freelancer, or self-employed                                                                              3557\n",
              "Not employed, but looking for work                                                                                                                    2341\n",
              "                                                                                                                                                     ...  \n",
              "Employed, full-time;Student, full-time;Independent contractor, freelancer, or self-employed;Student, part-time;Employed, part-time;Retired               1\n",
              "Employed, full-time;Independent contractor, freelancer, or self-employed;Student, part-time;Retired                                                      1\n",
              "Employed, full-time;Independent contractor, freelancer, or self-employed;Employed, part-time;Retired                                                     1\n",
              "Student, full-time;Not employed, but looking for work;Independent contractor, freelancer, or self-employed;Not employed, and not looking for work        1\n",
              "Not employed, but looking for work;Independent contractor, freelancer, or self-employed;Student, part-time;Retired                                       1\n",
              "Name: count, Length: 110, dtype: int64"
            ]
          },
          "execution_count": 19,
          "metadata": {},
          "output_type": "execute_result"
        }
      ],
      "source": [
        "employment_counts = df['Employment'].value_counts()\n",
        "employment_counts"
      ]
    },
    {
      "cell_type": "code",
      "execution_count": 20,
      "metadata": {},
      "outputs": [
        {
          "data": {
            "image/png": "[encoded data removed]",
            "text/plain": [
              "<Figure size 800x600 with 1 Axes>"
            ]
          },
          "metadata": {},
          "output_type": "display_data"
        }
      ],
      "source": [
        "# Now we can see how many of each employment type there are.\n",
        "# Lets plot it! For the sake of making it readable, I'm only plotting the top 5.\n",
        "\n",
        "plt.figure(figsize=(8, 6))\n",
        "sns.barplot(x=employment_counts.head().index, y=employment_counts.head().values)\n",
        "plt.xlabel('Employment Status')\n",
        "plt.ylabel('Count')\n",
        "plt.title('Distribution of Employment Statuses in the United States')\n",
        "\n",
        "plt.xticks(rotation=45)\n",
        "plt.tight_layout()\n",
        "plt.show()"
      ]
    },
    {
      "cell_type": "code",
      "execution_count": 21,
      "metadata": {},
      "outputs": [],
      "source": [
        "# To understand this better, lets print the percentage of the top 5 employment types on the entire dataset\n",
        "\n",
        "num_enteries = int(employment_counts.values.sum())\n",
        "top5_emp_list = employment_counts.head().copy().astype(float)\n",
        "\n",
        "\n",
        "for i in range(5):\n",
        "    top5_emp_list.values[i] /= num_enteries\n"
      ]
    },
    {
      "cell_type": "code",
      "execution_count": 22,
      "metadata": {},
      "outputs": [
        {
          "data": {
            "text/plain": [
              "Employment\n",
              "Employed, full-time                                                         0.596620\n",
              "Independent contractor, freelancer, or self-employed                        0.074056\n",
              "Student, full-time                                                          0.071962\n",
              "Employed, full-time;Independent contractor, freelancer, or self-employed    0.054358\n",
              "Not employed, but looking for work                                          0.035775\n",
              "Name: count, dtype: float64"
            ]
          },
          "execution_count": 22,
          "metadata": {},
          "output_type": "execute_result"
        }
      ],
      "source": [
        "top5_emp_list"
      ]
    },
    {
      "cell_type": "markdown",
      "metadata": {},
      "source": [
        "We can see that approximately **60%** of the US's programmers are Full-time Employees, which may or may not effect the prefered programming language."
      ]
    },
    {
      "cell_type": "markdown",
      "metadata": {},
      "source": [
        "**Question 3**: Which database is most oftenly used with the US's most used programming language (python)? "
      ]
    },
    {
      "cell_type": "code",
      "execution_count": 44,
      "metadata": {},
      "outputs": [
        {
          "data": {
            "text/html": [
              "<div>\n",
              "<style scoped>\n",
              "    .dataframe tbody tr th:only-of-type {\n",
              "        vertical-align: middle;\n",
              "    }\n",
              "\n",
              "    .dataframe tbody tr th {\n",
              "        vertical-align: top;\n",
              "    }\n",
              "\n",
              "    .dataframe thead th {\n",
              "        text-align: right;\n",
              "    }\n",
              "</style>\n",
              "<table border=\"1\" class=\"dataframe\">\n",
              "  <thead>\n",
              "    <tr style=\"text-align: right;\">\n",
              "      <th></th>\n",
              "      <th>LanguageHaveWorkedWith</th>\n",
              "      <th>DatabaseHaveWorkedWith</th>\n",
              "    </tr>\n",
              "  </thead>\n",
              "  <tbody>\n",
              "    <tr>\n",
              "      <th>0</th>\n",
              "      <td>NaN</td>\n",
              "      <td>NaN</td>\n",
              "    </tr>\n",
              "    <tr>\n",
              "      <th>1</th>\n",
              "      <td>Bash/Shell (all shells);Go;HTML/CSS;Java;JavaS...</td>\n",
              "      <td>Dynamodb;MongoDB;PostgreSQL</td>\n",
              "    </tr>\n",
              "    <tr>\n",
              "      <th>2</th>\n",
              "      <td>C#</td>\n",
              "      <td>Firebase Realtime Database</td>\n",
              "    </tr>\n",
              "    <tr>\n",
              "      <th>3</th>\n",
              "      <td>C;C++;HTML/CSS;Java;JavaScript;PHP;PowerShell;...</td>\n",
              "      <td>MongoDB;MySQL;PostgreSQL;SQLite</td>\n",
              "    </tr>\n",
              "    <tr>\n",
              "      <th>4</th>\n",
              "      <td>C++;HTML/CSS;JavaScript;Lua;Python;Rust</td>\n",
              "      <td>PostgreSQL;SQLite</td>\n",
              "    </tr>\n",
              "  </tbody>\n",
              "</table>\n",
              "</div>"
            ],
            "text/plain": [
              "                              LanguageHaveWorkedWith  \\\n",
              "0                                                NaN   \n",
              "1  Bash/Shell (all shells);Go;HTML/CSS;Java;JavaS...   \n",
              "2                                                 C#   \n",
              "3  C;C++;HTML/CSS;Java;JavaScript;PHP;PowerShell;...   \n",
              "4            C++;HTML/CSS;JavaScript;Lua;Python;Rust   \n",
              "\n",
              "            DatabaseHaveWorkedWith  \n",
              "0                              NaN  \n",
              "1      Dynamodb;MongoDB;PostgreSQL  \n",
              "2       Firebase Realtime Database  \n",
              "3  MongoDB;MySQL;PostgreSQL;SQLite  \n",
              "4                PostgreSQL;SQLite  "
            ]
          },
          "execution_count": 44,
          "metadata": {},
          "output_type": "execute_result"
        }
      ],
      "source": [
        "# For this, we only need the programming languages and databases\n",
        "# NOTE: Here, we are looking at the database that is most commonly used with python GLOBALY, not only in the US.\n",
        "# NOTE: We are interested in the HaveWorkedWith columns for the programming language and database\n",
        "\n",
        "lan_dbase_df = pd.concat([df['LanguageHaveWorkedWith'], df['DatabaseHaveWorkedWith']], axis=1)\n",
        "lan_dbase_df.head()"
      ]
    },
    {
      "cell_type": "code",
      "execution_count": 45,
      "metadata": {},
      "outputs": [
        {
          "data": {
            "text/html": [
              "<div>\n",
              "<style scoped>\n",
              "    .dataframe tbody tr th:only-of-type {\n",
              "        vertical-align: middle;\n",
              "    }\n",
              "\n",
              "    .dataframe tbody tr th {\n",
              "        vertical-align: top;\n",
              "    }\n",
              "\n",
              "    .dataframe thead th {\n",
              "        text-align: right;\n",
              "    }\n",
              "</style>\n",
              "<table border=\"1\" class=\"dataframe\">\n",
              "  <thead>\n",
              "    <tr style=\"text-align: right;\">\n",
              "      <th></th>\n",
              "      <th>LanguageHaveWorkedWith</th>\n",
              "      <th>DatabaseHaveWorkedWith</th>\n",
              "    </tr>\n",
              "  </thead>\n",
              "  <tbody>\n",
              "    <tr>\n",
              "      <th>1</th>\n",
              "      <td>Bash/Shell (all shells);Go;HTML/CSS;Java;JavaS...</td>\n",
              "      <td>Dynamodb;MongoDB;PostgreSQL</td>\n",
              "    </tr>\n",
              "    <tr>\n",
              "      <th>2</th>\n",
              "      <td>C#</td>\n",
              "      <td>Firebase Realtime Database</td>\n",
              "    </tr>\n",
              "    <tr>\n",
              "      <th>3</th>\n",
              "      <td>C;C++;HTML/CSS;Java;JavaScript;PHP;PowerShell;...</td>\n",
              "      <td>MongoDB;MySQL;PostgreSQL;SQLite</td>\n",
              "    </tr>\n",
              "    <tr>\n",
              "      <th>4</th>\n",
              "      <td>C++;HTML/CSS;JavaScript;Lua;Python;Rust</td>\n",
              "      <td>PostgreSQL;SQLite</td>\n",
              "    </tr>\n",
              "    <tr>\n",
              "      <th>5</th>\n",
              "      <td>Bash/Shell (all shells);HTML/CSS;Java;JavaScri...</td>\n",
              "      <td>Cloud Firestore</td>\n",
              "    </tr>\n",
              "  </tbody>\n",
              "</table>\n",
              "</div>"
            ],
            "text/plain": [
              "                              LanguageHaveWorkedWith  \\\n",
              "1  Bash/Shell (all shells);Go;HTML/CSS;Java;JavaS...   \n",
              "2                                                 C#   \n",
              "3  C;C++;HTML/CSS;Java;JavaScript;PHP;PowerShell;...   \n",
              "4            C++;HTML/CSS;JavaScript;Lua;Python;Rust   \n",
              "5  Bash/Shell (all shells);HTML/CSS;Java;JavaScri...   \n",
              "\n",
              "            DatabaseHaveWorkedWith  \n",
              "1      Dynamodb;MongoDB;PostgreSQL  \n",
              "2       Firebase Realtime Database  \n",
              "3  MongoDB;MySQL;PostgreSQL;SQLite  \n",
              "4                PostgreSQL;SQLite  \n",
              "5                  Cloud Firestore  "
            ]
          },
          "execution_count": 45,
          "metadata": {},
          "output_type": "execute_result"
        }
      ],
      "source": [
        "# Drop the null values\n",
        "lan_dbase_df = lan_dbase_df.dropna()\n",
        "lan_dbase_df.head()"
      ]
    },
    {
      "cell_type": "code",
      "execution_count": 46,
      "metadata": {},
      "outputs": [
        {
          "data": {
            "text/html": [
              "<div>\n",
              "<style scoped>\n",
              "    .dataframe tbody tr th:only-of-type {\n",
              "        vertical-align: middle;\n",
              "    }\n",
              "\n",
              "    .dataframe tbody tr th {\n",
              "        vertical-align: top;\n",
              "    }\n",
              "\n",
              "    .dataframe thead th {\n",
              "        text-align: right;\n",
              "    }\n",
              "</style>\n",
              "<table border=\"1\" class=\"dataframe\">\n",
              "  <thead>\n",
              "    <tr style=\"text-align: right;\">\n",
              "      <th></th>\n",
              "      <th>LanguageHaveWorkedWith</th>\n",
              "      <th>DatabaseHaveWorkedWith</th>\n",
              "    </tr>\n",
              "  </thead>\n",
              "  <tbody>\n",
              "    <tr>\n",
              "      <th>1</th>\n",
              "      <td>Bash/Shell (all shells)</td>\n",
              "      <td>Dynamodb</td>\n",
              "    </tr>\n",
              "    <tr>\n",
              "      <th>1</th>\n",
              "      <td>Bash/Shell (all shells)</td>\n",
              "      <td>MongoDB</td>\n",
              "    </tr>\n",
              "    <tr>\n",
              "      <th>1</th>\n",
              "      <td>Bash/Shell (all shells)</td>\n",
              "      <td>PostgreSQL</td>\n",
              "    </tr>\n",
              "    <tr>\n",
              "      <th>1</th>\n",
              "      <td>Go</td>\n",
              "      <td>Dynamodb</td>\n",
              "    </tr>\n",
              "    <tr>\n",
              "      <th>1</th>\n",
              "      <td>Go</td>\n",
              "      <td>MongoDB</td>\n",
              "    </tr>\n",
              "  </tbody>\n",
              "</table>\n",
              "</div>"
            ],
            "text/plain": [
              "    LanguageHaveWorkedWith DatabaseHaveWorkedWith\n",
              "1  Bash/Shell (all shells)               Dynamodb\n",
              "1  Bash/Shell (all shells)                MongoDB\n",
              "1  Bash/Shell (all shells)             PostgreSQL\n",
              "1                       Go               Dynamodb\n",
              "1                       Go                MongoDB"
            ]
          },
          "execution_count": 46,
          "metadata": {},
          "output_type": "execute_result"
        }
      ],
      "source": [
        "# We need to expand the DataFrame so each row has one language per row\n",
        "lan_dbase_df['LanguageHaveWorkedWith'] = lan_dbase_df['LanguageHaveWorkedWith'].str.split(';')\n",
        "lan_dbase_df['DatabaseHaveWorkedWith'] = lan_dbase_df['DatabaseHaveWorkedWith'].str.split(';')\n",
        "\n",
        "lan_dbase_df = lan_dbase_df.explode('LanguageHaveWorkedWith')\n",
        "lan_dbase_df = lan_dbase_df.explode('DatabaseHaveWorkedWith')\n",
        "\n",
        "lan_dbase_df.head()"
      ]
    },
    {
      "cell_type": "code",
      "execution_count": 47,
      "metadata": {},
      "outputs": [
        {
          "data": {
            "text/html": [
              "<div>\n",
              "<style scoped>\n",
              "    .dataframe tbody tr th:only-of-type {\n",
              "        vertical-align: middle;\n",
              "    }\n",
              "\n",
              "    .dataframe tbody tr th {\n",
              "        vertical-align: top;\n",
              "    }\n",
              "\n",
              "    .dataframe thead th {\n",
              "        text-align: right;\n",
              "    }\n",
              "</style>\n",
              "<table border=\"1\" class=\"dataframe\">\n",
              "  <thead>\n",
              "    <tr style=\"text-align: right;\">\n",
              "      <th></th>\n",
              "      <th>LanguageHaveWorkedWith</th>\n",
              "      <th>DatabaseHaveWorkedWith</th>\n",
              "    </tr>\n",
              "  </thead>\n",
              "  <tbody>\n",
              "    <tr>\n",
              "      <th>1</th>\n",
              "      <td>Python</td>\n",
              "      <td>Dynamodb</td>\n",
              "    </tr>\n",
              "    <tr>\n",
              "      <th>1</th>\n",
              "      <td>Python</td>\n",
              "      <td>MongoDB</td>\n",
              "    </tr>\n",
              "    <tr>\n",
              "      <th>1</th>\n",
              "      <td>Python</td>\n",
              "      <td>PostgreSQL</td>\n",
              "    </tr>\n",
              "    <tr>\n",
              "      <th>3</th>\n",
              "      <td>Python</td>\n",
              "      <td>MongoDB</td>\n",
              "    </tr>\n",
              "    <tr>\n",
              "      <th>3</th>\n",
              "      <td>Python</td>\n",
              "      <td>MySQL</td>\n",
              "    </tr>\n",
              "  </tbody>\n",
              "</table>\n",
              "</div>"
            ],
            "text/plain": [
              "  LanguageHaveWorkedWith DatabaseHaveWorkedWith\n",
              "1                 Python               Dynamodb\n",
              "1                 Python                MongoDB\n",
              "1                 Python             PostgreSQL\n",
              "3                 Python                MongoDB\n",
              "3                 Python                  MySQL"
            ]
          },
          "execution_count": 47,
          "metadata": {},
          "output_type": "execute_result"
        }
      ],
      "source": [
        "# We are only interested in databases with Python as the language\n",
        "\n",
        "py_dbase_df = lan_dbase_df[lan_dbase_df['LanguageHaveWorkedWith'] == 'Python']\n",
        "py_dbase_df.head()"
      ]
    },
    {
      "cell_type": "code",
      "execution_count": 58,
      "metadata": {},
      "outputs": [
        {
          "data": {
            "text/html": [
              "<div>\n",
              "<style scoped>\n",
              "    .dataframe tbody tr th:only-of-type {\n",
              "        vertical-align: middle;\n",
              "    }\n",
              "\n",
              "    .dataframe tbody tr th {\n",
              "        vertical-align: top;\n",
              "    }\n",
              "\n",
              "    .dataframe thead th {\n",
              "        text-align: right;\n",
              "    }\n",
              "</style>\n",
              "<table border=\"1\" class=\"dataframe\">\n",
              "  <thead>\n",
              "    <tr style=\"text-align: right;\">\n",
              "      <th></th>\n",
              "      <th>Database</th>\n",
              "      <th>Count</th>\n",
              "    </tr>\n",
              "  </thead>\n",
              "  <tbody>\n",
              "    <tr>\n",
              "      <th>0</th>\n",
              "      <td>PostgreSQL</td>\n",
              "      <td>14761</td>\n",
              "    </tr>\n",
              "    <tr>\n",
              "      <th>1</th>\n",
              "      <td>MySQL</td>\n",
              "      <td>11500</td>\n",
              "    </tr>\n",
              "    <tr>\n",
              "      <th>2</th>\n",
              "      <td>SQLite</td>\n",
              "      <td>11046</td>\n",
              "    </tr>\n",
              "    <tr>\n",
              "      <th>3</th>\n",
              "      <td>MongoDB</td>\n",
              "      <td>7495</td>\n",
              "    </tr>\n",
              "    <tr>\n",
              "      <th>4</th>\n",
              "      <td>Redis</td>\n",
              "      <td>5982</td>\n",
              "    </tr>\n",
              "  </tbody>\n",
              "</table>\n",
              "</div>"
            ],
            "text/plain": [
              "     Database  Count\n",
              "0  PostgreSQL  14761\n",
              "1       MySQL  11500\n",
              "2      SQLite  11046\n",
              "3     MongoDB   7495\n",
              "4       Redis   5982"
            ]
          },
          "execution_count": 58,
          "metadata": {},
          "output_type": "execute_result"
        }
      ],
      "source": [
        "# Now we can get the count of each database\n",
        "dbase_counts = py_dbase_df['DatabaseHaveWorkedWith'].value_counts().reset_index()\n",
        "dbase_counts.columns = ['Database', 'Count']\n",
        "\n",
        "dbase_counts.head()"
      ]
    },
    {
      "cell_type": "code",
      "execution_count": 61,
      "metadata": {},
      "outputs": [
        {
          "data": {
            "image/png": "[encoded data removed]",
            "text/plain": [
              "<Figure size 800x600 with 1 Axes>"
            ]
          },
          "metadata": {},
          "output_type": "display_data"
        }
      ],
      "source": [
        "# Lets plot the top 5 databases\n",
        "plt.figure(figsize=(8, 6))\n",
        "sns.barplot(x=dbase_counts.head()['Database'], y=dbase_counts.head()['Count'])\n",
        "plt.xlabel('Database')\n",
        "plt.ylabel('Count')\n",
        "plt.title('Top 5 Databases for Python')\n",
        "\n",
        "plt.xticks(rotation=45)\n",
        "plt.tight_layout()\n",
        "plt.show()"
      ]
    },
    {
      "cell_type": "code",
      "execution_count": null,
      "metadata": {},
      "outputs": [],
      "source": []
    }
  ],
  "metadata": {
    "colab": {
      "provenance": []
    },
    "kernelspec": {
      "display_name": "Py",
      "language": "python",
      "name": "python3"
    },
    "language_info": {
      "codemirror_mode": {
        "name": "ipython",
        "version": 3
      },
      "file_extension": ".py",
      "mimetype": "text/x-python",
      "name": "python",
      "nbconvert_exporter": "python",
      "pygments_lexer": "ipython3",
      "version": "3.11.4"
    }
  },
  "nbformat": 4,
  "nbformat_minor": 0
}
